{
  "nbformat": 4,
  "nbformat_minor": 0,
  "metadata": {
    "colab": {
      "name": "diamondPattern.ipynb",
      "provenance": []
    },
    "kernelspec": {
      "name": "python3",
      "display_name": "Python 3"
    },
    "language_info": {
      "name": "python"
    }
  },
  "cells": [
    {
      "cell_type": "code",
      "execution_count": 3,
      "metadata": {
        "colab": {
          "base_uri": "https://localhost:8080/"
        },
        "id": "o6v0oU81Hpnn",
        "outputId": "5577e576-d22b-48d6-d0b7-ae3665441c5a"
      },
      "outputs": [
        {
          "output_type": "stream",
          "name": "stdout",
          "text": [
            "   *   \n",
            "  ***  \n",
            " ***** \n",
            "*******\n",
            " ***** \n",
            "  ***  \n",
            "   *   \n"
          ]
        }
      ],
      "source": [
        "for i in range (7):\n",
        "    if i<=3:\n",
        "        print((3-i)*\" \"+(2*i+1)*\"*\"+(3-i)*\" \")\n",
        "    else:\n",
        "        print((i-3)*\" \"+(2*(6-i)+1)*\"*\"+(i-3)*\" \")"
      ]
    }
  ]
}